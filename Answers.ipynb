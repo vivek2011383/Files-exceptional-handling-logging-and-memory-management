{
 "cells": [
  {
   "cell_type": "markdown",
   "id": "e4af1d01",
   "metadata": {},
   "source": [
    "THEORY QUESTIONS"
   ]
  },
  {
   "cell_type": "markdown",
   "id": "b15f48d9",
   "metadata": {},
   "source": [
    "1. What is the difference between interpreted and compiled languages?\n",
    "    - Compiled languages convert code to machine language before execution, while interpreted languages execute line-by-line at runtime. Compiled languages offer speed; interpreted languages offer flexibility.\n",
    "\n",
    "2. What is exception handling in Python?\n",
    "    - A mechanism to handle runtime errors using try-except blocks. Prevents program crashes by catching and managing exceptions.\n",
    "\n",
    "3. What is the purpose of the finally block in exception handling?\n",
    "    - Executes code regardless of whether an exception occurs. Used for cleanup tasks like closing files or releasing resources.\n",
    "\n",
    "4. What is logging in Python?\n",
    "    - The logging module records events during program execution (e.g., errors, warnings). Provides structured, configurable output for debugging.\n",
    "\n",
    "5. What is the significance of the __del__ method in Python?\n",
    "    - A destructor called when an object is destroyed. Used for cleanup, but unreliable for critical resource management due to non-deterministic execution.\n",
    "\n",
    "6. What is the difference between import and from … import in Python?\n",
    "    - import loads the entire module (e.g., import math). from ... import loads specific attributes (e.g., from math import sqrt). The latter risks namespace clashes.\n",
    "\n",
    "7. How can you handle multiple exceptions in Python?\n",
    "    - Use a tuple in the except clause: except (ValueError, TypeError). Or chain multiple except blocks for different exceptions.\n",
    "\n",
    "8. What is the purpose of the with statement when handling files in Python?\n",
    "    - Ensures proper resource cleanup. Automatically closes files using context managers, even if exceptions occur.\n",
    "\n",
    "9. What is the difference between multithreading and multiprocessing?\n",
    "    - Multithreading uses threads within a single process (shared memory, limited by GIL). Multiprocessing uses separate processes (isolated memory, true parallelism).\n",
    "\n",
    "10. What are the advantages of using logging in a program?\n",
    "    - Configurable severity levels (DEBUG, ERROR), persistent logs, runtime adjustments, and better debugging than print statements.\n",
    "\n",
    "11. What is memory management in Python?\n",
    "    - Automatic allocation/deallocation via a private heap. Garbage collector (reference counting + cycle detection) reclaims unused memory.\n",
    "\n",
    "12. What are the basic steps involved in exception handling in Python?\n",
    "    - 1. Try: Enclose risky code. \n",
    "    - 2. Except: Catch exceptions. \n",
    "    - 3. Else: Run if no exception. 4. Finally: Always execute.\n",
    "\n",
    "13. Why is memory management important in Python?\n",
    "    - Prevents leaks, optimizes resource use, and avoids crashes. Automated but requires awareness of object lifecycles.\n",
    "\n",
    "14. What is the role of try and except in exception handling?\n",
    "    - try: Wraps code that may raise exceptions. \n",
    "    - except: Catches and handles exceptions to maintain program flow.\n",
    "\n",
    "15. How does Python's garbage collection system work?\n",
    "    - Uses reference counting (objects deleted when references drop to zero) and a cycle detector to handle unreachable cyclic references.\n",
    "\n",
    "16. What is the purpose of the else block in exception handling?\n",
    "    - Runs code only if the try block succeeds (no exceptions). Separates success logic from error handling.\n",
    "\n",
    "17. What are the common logging levels in Python?\n",
    "    - DEBUG (diagnostic), INFO (confirmation), WARNING (potential issue), ERROR (serious problem), CRITICAL (fatal error).\n",
    "\n",
    "18. What is the difference between os.fork() and multiprocessing in Python?\n",
    "    - os.fork() is Unix-specific and creates child processes. multiprocessing is cross-platform, manages processes, and avoids GIL limitations.\n",
    "\n",
    "19. What is the importance of closing a file in Python?\n",
    "    - Releases OS resources, flushes unwritten data, and prevents corruption. Use with statements for automatic closure.\n",
    "\n",
    "20. What is the difference between file.read() and file.readline()?\n",
    "    - file.read() reads the entire file as a string. file.readline() reads one line at a time (including newline characters).\n",
    "\n",
    "21. What is the logging module in Python used for?\n",
    "    - Tracking program events, debugging, and auditing. Supports multiple outputs (files, consoles) and severity levels.\n",
    "\n",
    "22. What is the os module in Python used for in file handling?\n",
    "    - Provides OS-dependent operations like file deletion (os.remove()), path manipulation (os.path), and directory management.\n",
    "\n",
    "23. What are the challenges associated with memory management in Python?\n",
    "    - Cyclic references (garbage collector may not catch immediately), large object overhead, and limited manual control.\n",
    "\n",
    "24. How do you raise an exception manually in Python?\n",
    "    - Use the raise keyword. Example: raise ValueError(\"Invalid input\").\n",
    "\n",
    "25. Why is it important to use multithreading in certain applications?\n",
    "    - Improves performance for I/O-bound tasks (e.g., web requests) by allowing concurrent execution."
   ]
  },
  {
   "cell_type": "markdown",
   "id": "b53710ba",
   "metadata": {},
   "source": [
    "PRACTICAL QUESTIONS"
   ]
  },
  {
   "cell_type": "code",
   "execution_count": 1,
   "id": "1b8df3d0",
   "metadata": {},
   "outputs": [],
   "source": [
    "# 1. How can you open a file for writing in Python and write a string to it?\n",
    "with open(\"example.txt\", \"w\") as file:\n",
    "    file.write(\"Hello, World!\")"
   ]
  },
  {
   "cell_type": "code",
   "execution_count": 2,
   "id": "b753964d",
   "metadata": {},
   "outputs": [
    {
     "name": "stdout",
     "output_type": "stream",
     "text": [
      "Hello, World!\n"
     ]
    }
   ],
   "source": [
    "# 2. Write a Python program to read the contents of a file and print each line.\n",
    "with open(\"example.txt\", \"r\") as file:\n",
    "    for line in file:\n",
    "        print(line.strip())"
   ]
  },
  {
   "cell_type": "code",
   "execution_count": 3,
   "id": "b8a6e955",
   "metadata": {},
   "outputs": [
    {
     "name": "stdout",
     "output_type": "stream",
     "text": [
      "Error: File not found!\n"
     ]
    }
   ],
   "source": [
    "# 3. How would you handle a case where the file doesn’t exist while trying to open it for reading?\n",
    "try:\n",
    "    with open(\"nonexistent.txt\", \"r\") as file:\n",
    "        content = file.read()\n",
    "except FileNotFoundError:\n",
    "    print(\"Error: File not found!\")"
   ]
  },
  {
   "cell_type": "code",
   "execution_count": null,
   "id": "2e9d6ba7",
   "metadata": {},
   "outputs": [],
   "source": [
    "# 4. Write a Python script that reads from one file and writes its content to another file.\n",
    "\n",
    "\n",
    "with open(\"source.txt\", \"w\") as f:\n",
    "    f.write(\"Sample content for source file.\")\n",
    "\n",
    "with open(\"source.txt\", \"r\") as src, open(\"destination.txt\", \"w\") as dest:\n",
    "    content = src.read()\n",
    "    dest.write(content)"
   ]
  },
  {
   "cell_type": "code",
   "execution_count": 6,
   "id": "aa42a2e2",
   "metadata": {},
   "outputs": [
    {
     "name": "stdout",
     "output_type": "stream",
     "text": [
      "Error: Division by zero!\n"
     ]
    }
   ],
   "source": [
    "# 5. How would you catch and handle division by zero error in Python?\n",
    "try:\n",
    "    result = 10 / 0\n",
    "except ZeroDivisionError:\n",
    "    print(\"Error: Division by zero!\")"
   ]
  },
  {
   "cell_type": "code",
   "execution_count": 7,
   "id": "132aba96",
   "metadata": {},
   "outputs": [],
   "source": [
    "# 6. Write a Python program that logs an error message to a log file when a division by zero exception occurs.\n",
    "import logging\n",
    "\n",
    "logging.basicConfig(filename='errors.log', level=logging.ERROR)\n",
    "\n",
    "try:\n",
    "    result = 10 / 0\n",
    "except ZeroDivisionError:\n",
    "    logging.error(\"Division by zero occurred!\")"
   ]
  },
  {
   "cell_type": "code",
   "execution_count": 8,
   "id": "1c4a54c9",
   "metadata": {},
   "outputs": [],
   "source": [
    "# 7. How do you log information at different levels (INFO, ERROR, WARNING) in Python using the logging module?\n",
    "import logging\n",
    "\n",
    "logging.basicConfig(level=logging.INFO)\n",
    "logging.info(\"This is an informational message.\")\n",
    "logging.warning(\"This is a warning message.\")\n",
    "logging.error(\"This is an error message.\")"
   ]
  },
  {
   "cell_type": "code",
   "execution_count": 9,
   "id": "aa8e5209",
   "metadata": {},
   "outputs": [
    {
     "name": "stdout",
     "output_type": "stream",
     "text": [
      "File error: [Errno 2] No such file or directory: 'invalid.txt'\n"
     ]
    }
   ],
   "source": [
    "# 8. Write a program to handle a file opening error using exception handling.\n",
    "try:\n",
    "    with open(\"invalid.txt\", \"r\") as file:\n",
    "        content = file.read()\n",
    "except IOError as e:\n",
    "    print(f\"File error: {e}\")"
   ]
  },
  {
   "cell_type": "code",
   "execution_count": 10,
   "id": "8fcfec6f",
   "metadata": {},
   "outputs": [],
   "source": [
    "# 9. How can you read a file line by line and store its content in a list in Python?\n",
    "lines = []\n",
    "with open(\"example.txt\", \"r\") as file:\n",
    "    lines = file.readlines()"
   ]
  },
  {
   "cell_type": "code",
   "execution_count": 11,
   "id": "d693becb",
   "metadata": {},
   "outputs": [],
   "source": [
    "# 10. How can you append data to an existing file in Python?\n",
    "with open(\"example.txt\", \"a\") as file:\n",
    "    file.write(\"\\nAppended text.\")"
   ]
  },
  {
   "cell_type": "code",
   "execution_count": 12,
   "id": "38f9c43d",
   "metadata": {},
   "outputs": [
    {
     "name": "stdout",
     "output_type": "stream",
     "text": [
      "Key not found!\n"
     ]
    }
   ],
   "source": [
    "# 11. Write a Python program that uses a try-except block to handle an error when attempting to access a dictionary key that doesn’t exist.\n",
    "my_dict = {\"name\": \"Alice\"}\n",
    "try:\n",
    "    print(my_dict[\"age\"])\n",
    "except KeyError:\n",
    "    print(\"Key not found!\")"
   ]
  },
  {
   "cell_type": "code",
   "execution_count": 13,
   "id": "65b63375",
   "metadata": {},
   "outputs": [
    {
     "name": "stdout",
     "output_type": "stream",
     "text": [
      "Division by zero!\n"
     ]
    }
   ],
   "source": [
    "# 12. Write a program that demonstrates using multiple except blocks to handle different types of exceptions.\n",
    "try:\n",
    "    # Code that may raise exceptions\n",
    "    x = 1 / 0\n",
    "    value = [1, 2, 3][5]\n",
    "except ZeroDivisionError:\n",
    "    print(\"Division by zero!\")\n",
    "except IndexError:\n",
    "    print(\"Index out of range!\")"
   ]
  },
  {
   "cell_type": "code",
   "execution_count": 14,
   "id": "300dd37a",
   "metadata": {},
   "outputs": [],
   "source": [
    "# 13. How would you check if a file exists before attempting to read it in Python?\n",
    "import os\n",
    "\n",
    "if os.path.exists(\"example.txt\"):\n",
    "    with open(\"example.txt\", \"r\") as file:\n",
    "        content = file.read()\n",
    "else:\n",
    "    print(\"File does not exist.\")"
   ]
  },
  {
   "cell_type": "code",
   "execution_count": 15,
   "id": "cf4ecac8",
   "metadata": {},
   "outputs": [],
   "source": [
    "# 14. Write a program that uses the logging module to log both informational and error messages.\n",
    "import logging\n",
    "\n",
    "logging.basicConfig(filename='app.log', level=logging.INFO)\n",
    "\n",
    "logging.info(\"Program started.\")\n",
    "try:\n",
    "    result = 10 / 0\n",
    "except ZeroDivisionError:\n",
    "    logging.error(\"Division by zero occurred!\")"
   ]
  },
  {
   "cell_type": "code",
   "execution_count": 16,
   "id": "276c9979",
   "metadata": {},
   "outputs": [
    {
     "name": "stdout",
     "output_type": "stream",
     "text": [
      "Hello, World!\n",
      "Appended text.\n"
     ]
    }
   ],
   "source": [
    "# 15. Write a Python program that prints the content of a file and handles the case when the file is empty.\n",
    "with open(\"example.txt\", \"r\") as file:\n",
    "    content = file.read()\n",
    "    if not content:\n",
    "        print(\"File is empty.\")\n",
    "    else:\n",
    "        print(content)"
   ]
  },
  {
   "cell_type": "code",
   "execution_count": 17,
   "id": "5d040cde",
   "metadata": {},
   "outputs": [
    {
     "name": "stdout",
     "output_type": "stream",
     "text": [
      "Defaulting to user installation because normal site-packages is not writeable\n",
      "Collecting memory-profiler\n",
      "  Downloading memory_profiler-0.61.0-py3-none-any.whl.metadata (20 kB)\n",
      "Requirement already satisfied: psutil in c:\\users\\vivek\\appdata\\local\\packages\\pythonsoftwarefoundation.python.3.12_qbz5n2kfra8p0\\localcache\\local-packages\\python312\\site-packages (from memory-profiler) (7.0.0)\n",
      "Downloading memory_profiler-0.61.0-py3-none-any.whl (31 kB)\n",
      "Installing collected packages: memory-profiler\n",
      "Successfully installed memory-profiler-0.61.0\n",
      "Note: you may need to restart the kernel to use updated packages.\n"
     ]
    },
    {
     "name": "stderr",
     "output_type": "stream",
     "text": [
      "\n",
      "[notice] A new release of pip is available: 25.0.1 -> 25.1.1\n",
      "[notice] To update, run: C:\\Users\\vivek\\AppData\\Local\\Microsoft\\WindowsApps\\PythonSoftwareFoundation.Python.3.12_qbz5n2kfra8p0\\python.exe -m pip install --upgrade pip\n"
     ]
    }
   ],
   "source": [
    "pip install memory-profiler"
   ]
  },
  {
   "cell_type": "code",
   "execution_count": 21,
   "id": "1bd09916",
   "metadata": {},
   "outputs": [
    {
     "name": "stdout",
     "output_type": "stream",
     "text": [
      "Defaulting to user installation because normal site-packages is not writeable\n",
      "Requirement already satisfied: memory-profiler in c:\\users\\vivek\\appdata\\local\\packages\\pythonsoftwarefoundation.python.3.12_qbz5n2kfra8p0\\localcache\\local-packages\\python312\\site-packages (0.61.0)\n",
      "Requirement already satisfied: psutil in c:\\users\\vivek\\appdata\\local\\packages\\pythonsoftwarefoundation.python.3.12_qbz5n2kfra8p0\\localcache\\local-packages\\python312\\site-packages (from memory-profiler) (7.0.0)\n",
      "Note: you may need to restart the kernel to use updated packages.\n"
     ]
    },
    {
     "name": "stderr",
     "output_type": "stream",
     "text": [
      "\n",
      "[notice] A new release of pip is available: 25.0.1 -> 25.1.1\n",
      "[notice] To update, run: C:\\Users\\vivek\\AppData\\Local\\Microsoft\\WindowsApps\\PythonSoftwareFoundation.Python.3.12_qbz5n2kfra8p0\\python.exe -m pip install --upgrade pip\n"
     ]
    },
    {
     "ename": "ModuleNotFoundError",
     "evalue": "No module named 'distutils'",
     "output_type": "error",
     "traceback": [
      "\u001b[31m---------------------------------------------------------------------------\u001b[39m",
      "\u001b[31mModuleNotFoundError\u001b[39m                       Traceback (most recent call last)",
      "\u001b[36mCell\u001b[39m\u001b[36m \u001b[39m\u001b[32mIn[21]\u001b[39m\u001b[32m, line 5\u001b[39m\n\u001b[32m      1\u001b[39m \u001b[38;5;66;03m# 16. Demonstrate how to use memory profiling to check the memory usage of a small program.\u001b[39;00m\n\u001b[32m      3\u001b[39m get_ipython().run_line_magic(\u001b[33m'\u001b[39m\u001b[33mpip\u001b[39m\u001b[33m'\u001b[39m, \u001b[33m'\u001b[39m\u001b[33minstall memory-profiler\u001b[39m\u001b[33m'\u001b[39m)\n\u001b[32m----> \u001b[39m\u001b[32m5\u001b[39m \u001b[43mget_ipython\u001b[49m\u001b[43m(\u001b[49m\u001b[43m)\u001b[49m\u001b[43m.\u001b[49m\u001b[43mrun_line_magic\u001b[49m\u001b[43m(\u001b[49m\u001b[33;43m'\u001b[39;49m\u001b[33;43mload_ext\u001b[39;49m\u001b[33;43m'\u001b[39;49m\u001b[43m,\u001b[49m\u001b[43m \u001b[49m\u001b[33;43m'\u001b[39;49m\u001b[33;43mmemory_profiler\u001b[39;49m\u001b[33;43m'\u001b[39;49m\u001b[43m)\u001b[49m\n\u001b[32m      7\u001b[39m \u001b[38;5;129m@profile\u001b[39m\n\u001b[32m      8\u001b[39m \u001b[38;5;28;01mdef\u001b[39;00m\u001b[38;5;250m \u001b[39m\u001b[34msample_function\u001b[39m():\n\u001b[32m      9\u001b[39m     data = [i \u001b[38;5;28;01mfor\u001b[39;00m i \u001b[38;5;129;01min\u001b[39;00m \u001b[38;5;28mrange\u001b[39m(\u001b[32m10000\u001b[39m)]\n",
      "\u001b[36mFile \u001b[39m\u001b[32m~\\AppData\\Local\\Packages\\PythonSoftwareFoundation.Python.3.12_qbz5n2kfra8p0\\LocalCache\\local-packages\\Python312\\site-packages\\IPython\\core\\interactiveshell.py:2486\u001b[39m, in \u001b[36mInteractiveShell.run_line_magic\u001b[39m\u001b[34m(self, magic_name, line, _stack_depth)\u001b[39m\n\u001b[32m   2484\u001b[39m     kwargs[\u001b[33m'\u001b[39m\u001b[33mlocal_ns\u001b[39m\u001b[33m'\u001b[39m] = \u001b[38;5;28mself\u001b[39m.get_local_scope(stack_depth)\n\u001b[32m   2485\u001b[39m \u001b[38;5;28;01mwith\u001b[39;00m \u001b[38;5;28mself\u001b[39m.builtin_trap:\n\u001b[32m-> \u001b[39m\u001b[32m2486\u001b[39m     result = \u001b[43mfn\u001b[49m\u001b[43m(\u001b[49m\u001b[43m*\u001b[49m\u001b[43margs\u001b[49m\u001b[43m,\u001b[49m\u001b[43m \u001b[49m\u001b[43m*\u001b[49m\u001b[43m*\u001b[49m\u001b[43mkwargs\u001b[49m\u001b[43m)\u001b[49m\n\u001b[32m   2488\u001b[39m \u001b[38;5;66;03m# The code below prevents the output from being displayed\u001b[39;00m\n\u001b[32m   2489\u001b[39m \u001b[38;5;66;03m# when using magics with decorator @output_can_be_silenced\u001b[39;00m\n\u001b[32m   2490\u001b[39m \u001b[38;5;66;03m# when the last Python token in the expression is a ';'.\u001b[39;00m\n\u001b[32m   2491\u001b[39m \u001b[38;5;28;01mif\u001b[39;00m \u001b[38;5;28mgetattr\u001b[39m(fn, magic.MAGIC_OUTPUT_CAN_BE_SILENCED, \u001b[38;5;28;01mFalse\u001b[39;00m):\n",
      "\u001b[36mFile \u001b[39m\u001b[32m~\\AppData\\Local\\Packages\\PythonSoftwareFoundation.Python.3.12_qbz5n2kfra8p0\\LocalCache\\local-packages\\Python312\\site-packages\\IPython\\core\\magics\\extension.py:33\u001b[39m, in \u001b[36mExtensionMagics.load_ext\u001b[39m\u001b[34m(self, module_str)\u001b[39m\n\u001b[32m     31\u001b[39m \u001b[38;5;28;01mif\u001b[39;00m \u001b[38;5;129;01mnot\u001b[39;00m module_str:\n\u001b[32m     32\u001b[39m     \u001b[38;5;28;01mraise\u001b[39;00m UsageError(\u001b[33m'\u001b[39m\u001b[33mMissing module name.\u001b[39m\u001b[33m'\u001b[39m)\n\u001b[32m---> \u001b[39m\u001b[32m33\u001b[39m res = \u001b[38;5;28;43mself\u001b[39;49m\u001b[43m.\u001b[49m\u001b[43mshell\u001b[49m\u001b[43m.\u001b[49m\u001b[43mextension_manager\u001b[49m\u001b[43m.\u001b[49m\u001b[43mload_extension\u001b[49m\u001b[43m(\u001b[49m\u001b[43mmodule_str\u001b[49m\u001b[43m)\u001b[49m\n\u001b[32m     35\u001b[39m \u001b[38;5;28;01mif\u001b[39;00m res == \u001b[33m'\u001b[39m\u001b[33malready loaded\u001b[39m\u001b[33m'\u001b[39m:\n\u001b[32m     36\u001b[39m     \u001b[38;5;28mprint\u001b[39m(\u001b[33m\"\u001b[39m\u001b[33mThe \u001b[39m\u001b[38;5;132;01m%s\u001b[39;00m\u001b[33m extension is already loaded. To reload it, use:\u001b[39m\u001b[33m\"\u001b[39m % module_str)\n",
      "\u001b[36mFile \u001b[39m\u001b[32m~\\AppData\\Local\\Packages\\PythonSoftwareFoundation.Python.3.12_qbz5n2kfra8p0\\LocalCache\\local-packages\\Python312\\site-packages\\IPython\\core\\extensions.py:62\u001b[39m, in \u001b[36mExtensionManager.load_extension\u001b[39m\u001b[34m(self, module_str)\u001b[39m\n\u001b[32m     55\u001b[39m \u001b[38;5;250m\u001b[39m\u001b[33;03m\"\"\"Load an IPython extension by its module name.\u001b[39;00m\n\u001b[32m     56\u001b[39m \n\u001b[32m     57\u001b[39m \u001b[33;03mReturns the string \"already loaded\" if the extension is already loaded,\u001b[39;00m\n\u001b[32m     58\u001b[39m \u001b[33;03m\"no load function\" if the module doesn't have a load_ipython_extension\u001b[39;00m\n\u001b[32m     59\u001b[39m \u001b[33;03mfunction, or None if it succeeded.\u001b[39;00m\n\u001b[32m     60\u001b[39m \u001b[33;03m\"\"\"\u001b[39;00m\n\u001b[32m     61\u001b[39m \u001b[38;5;28;01mtry\u001b[39;00m:\n\u001b[32m---> \u001b[39m\u001b[32m62\u001b[39m     \u001b[38;5;28;01mreturn\u001b[39;00m \u001b[38;5;28;43mself\u001b[39;49m\u001b[43m.\u001b[49m\u001b[43m_load_extension\u001b[49m\u001b[43m(\u001b[49m\u001b[43mmodule_str\u001b[49m\u001b[43m)\u001b[49m\n\u001b[32m     63\u001b[39m \u001b[38;5;28;01mexcept\u001b[39;00m \u001b[38;5;167;01mModuleNotFoundError\u001b[39;00m:\n\u001b[32m     64\u001b[39m     \u001b[38;5;28;01mif\u001b[39;00m module_str \u001b[38;5;129;01min\u001b[39;00m BUILTINS_EXTS:\n",
      "\u001b[36mFile \u001b[39m\u001b[32m~\\AppData\\Local\\Packages\\PythonSoftwareFoundation.Python.3.12_qbz5n2kfra8p0\\LocalCache\\local-packages\\Python312\\site-packages\\IPython\\core\\extensions.py:79\u001b[39m, in \u001b[36mExtensionManager._load_extension\u001b[39m\u001b[34m(self, module_str)\u001b[39m\n\u001b[32m     77\u001b[39m     mod = import_module(module_str)\n\u001b[32m     78\u001b[39m mod = sys.modules[module_str]\n\u001b[32m---> \u001b[39m\u001b[32m79\u001b[39m \u001b[38;5;28;01mif\u001b[39;00m \u001b[38;5;28;43mself\u001b[39;49m\u001b[43m.\u001b[49m\u001b[43m_call_load_ipython_extension\u001b[49m\u001b[43m(\u001b[49m\u001b[43mmod\u001b[49m\u001b[43m)\u001b[49m:\n\u001b[32m     80\u001b[39m     \u001b[38;5;28mself\u001b[39m.loaded.add(module_str)\n\u001b[32m     81\u001b[39m \u001b[38;5;28;01melse\u001b[39;00m:\n",
      "\u001b[36mFile \u001b[39m\u001b[32m~\\AppData\\Local\\Packages\\PythonSoftwareFoundation.Python.3.12_qbz5n2kfra8p0\\LocalCache\\local-packages\\Python312\\site-packages\\IPython\\core\\extensions.py:129\u001b[39m, in \u001b[36mExtensionManager._call_load_ipython_extension\u001b[39m\u001b[34m(self, mod)\u001b[39m\n\u001b[32m    127\u001b[39m \u001b[38;5;28;01mdef\u001b[39;00m\u001b[38;5;250m \u001b[39m\u001b[34m_call_load_ipython_extension\u001b[39m(\u001b[38;5;28mself\u001b[39m, mod):\n\u001b[32m    128\u001b[39m     \u001b[38;5;28;01mif\u001b[39;00m \u001b[38;5;28mhasattr\u001b[39m(mod, \u001b[33m'\u001b[39m\u001b[33mload_ipython_extension\u001b[39m\u001b[33m'\u001b[39m):\n\u001b[32m--> \u001b[39m\u001b[32m129\u001b[39m         \u001b[43mmod\u001b[49m\u001b[43m.\u001b[49m\u001b[43mload_ipython_extension\u001b[49m\u001b[43m(\u001b[49m\u001b[38;5;28;43mself\u001b[39;49m\u001b[43m.\u001b[49m\u001b[43mshell\u001b[49m\u001b[43m)\u001b[49m\n\u001b[32m    130\u001b[39m         \u001b[38;5;28;01mreturn\u001b[39;00m \u001b[38;5;28;01mTrue\u001b[39;00m\n",
      "\u001b[36mFile \u001b[39m\u001b[32m~\\AppData\\Local\\Packages\\PythonSoftwareFoundation.Python.3.12_qbz5n2kfra8p0\\LocalCache\\local-packages\\Python312\\site-packages\\memory_profiler.py:1160\u001b[39m, in \u001b[36mload_ipython_extension\u001b[39m\u001b[34m(ip)\u001b[39m\n\u001b[32m   1157\u001b[39m \u001b[38;5;28;01mdef\u001b[39;00m\u001b[38;5;250m \u001b[39m\u001b[34mload_ipython_extension\u001b[39m(ip):\n\u001b[32m   1158\u001b[39m \u001b[38;5;250m    \u001b[39m\u001b[33;03m\"\"\"This is called to load the module as an IPython extension.\"\"\"\u001b[39;00m\n\u001b[32m-> \u001b[39m\u001b[32m1160\u001b[39m     \u001b[43mMemoryProfilerMagics\u001b[49m\u001b[43m.\u001b[49m\u001b[43mregister_magics\u001b[49m\u001b[43m(\u001b[49m\u001b[43mip\u001b[49m\u001b[43m)\u001b[49m\n",
      "\u001b[36mFile \u001b[39m\u001b[32m~\\AppData\\Local\\Packages\\PythonSoftwareFoundation.Python.3.12_qbz5n2kfra8p0\\LocalCache\\local-packages\\Python312\\site-packages\\memory_profiler.py:1134\u001b[39m, in \u001b[36mMemoryProfilerMagics.register_magics\u001b[39m\u001b[34m(cls, ip)\u001b[39m\n\u001b[32m   1132\u001b[39m \u001b[38;5;129m@classmethod\u001b[39m\n\u001b[32m   1133\u001b[39m \u001b[38;5;28;01mdef\u001b[39;00m\u001b[38;5;250m \u001b[39m\u001b[34mregister_magics\u001b[39m(\u001b[38;5;28mcls\u001b[39m, ip):\n\u001b[32m-> \u001b[39m\u001b[32m1134\u001b[39m     \u001b[38;5;28;01mfrom\u001b[39;00m\u001b[38;5;250m \u001b[39m\u001b[34;01mdistutils\u001b[39;00m\u001b[34;01m.\u001b[39;00m\u001b[34;01mversion\u001b[39;00m\u001b[38;5;250m \u001b[39m\u001b[38;5;28;01mimport\u001b[39;00m LooseVersion\n\u001b[32m   1135\u001b[39m     \u001b[38;5;28;01mimport\u001b[39;00m\u001b[38;5;250m \u001b[39m\u001b[34;01mIPython\u001b[39;00m\n\u001b[32m   1136\u001b[39m     ipython_version = LooseVersion(IPython.__version__)\n",
      "\u001b[31mModuleNotFoundError\u001b[39m: No module named 'distutils'"
     ]
    }
   ],
   "source": [
    "# 16. Demonstrate how to use memory profiling to check the memory usage of a small program.\n",
    "\n",
    "%pip install memory-profiler\n",
    "\n",
    "%load_ext memory_profiler\n",
    "\n",
    "@profile\n",
    "def sample_function():\n",
    "    data = [i for i in range(10000)]\n",
    "    return data\n",
    "\n",
    "sample_function()"
   ]
  },
  {
   "cell_type": "code",
   "execution_count": 22,
   "id": "fb6b5a8a",
   "metadata": {},
   "outputs": [],
   "source": [
    "# 17. Write a Python program to create and write a list of numbers to a file, one number per line.\n",
    "numbers = [1, 2, 3, 4, 5]\n",
    "with open(\"numbers.txt\", \"w\") as file:\n",
    "    for num in numbers:\n",
    "        file.write(f\"{num}\\n\")"
   ]
  },
  {
   "cell_type": "code",
   "execution_count": 23,
   "id": "05132ca3",
   "metadata": {},
   "outputs": [],
   "source": [
    "# 18. How would you implement a basic logging setup that logs to a file with rotation after 1MB?\n",
    "import logging\n",
    "from logging.handlers import RotatingFileHandler\n",
    "\n",
    "logger = logging.getLogger(__name__)\n",
    "handler = RotatingFileHandler('app.log', maxBytes=1_000_000, backupCount=3)\n",
    "logger.addHandler(handler)\n",
    "logger.setLevel(logging.INFO)\n",
    "\n",
    "logger.info(\"This log will rotate after 1MB.\")"
   ]
  },
  {
   "cell_type": "code",
   "execution_count": 24,
   "id": "81bb374d",
   "metadata": {},
   "outputs": [
    {
     "name": "stdout",
     "output_type": "stream",
     "text": [
      "Error: KeyError\n"
     ]
    }
   ],
   "source": [
    "# 19. Write a program that handles both IndexError and KeyError using a try-except block.\n",
    "try:\n",
    "    data = {\"a\": 1, \"b\": 2}\n",
    "    print(data[\"c\"])  # KeyError\n",
    "    lst = [1, 2, 3]\n",
    "    print(lst[5])     # IndexError\n",
    "except (KeyError, IndexError) as e:\n",
    "    print(f\"Error: {type(e).__name__}\")"
   ]
  },
  {
   "cell_type": "code",
   "execution_count": 25,
   "id": "f29fa6c4",
   "metadata": {},
   "outputs": [
    {
     "name": "stdout",
     "output_type": "stream",
     "text": [
      "Hello, World!\n",
      "Appended text.\n"
     ]
    }
   ],
   "source": [
    "# 20. How would you open a file and read its contents using a context manager in Python?\n",
    "with open(\"example.txt\", \"r\") as file:\n",
    "    content = file.read()\n",
    "    print(content)"
   ]
  },
  {
   "cell_type": "code",
   "execution_count": 26,
   "id": "5bd77258",
   "metadata": {},
   "outputs": [
    {
     "name": "stdout",
     "output_type": "stream",
     "text": [
      "'Python' appears 0 times.\n"
     ]
    }
   ],
   "source": [
    "# 21. Write a Python program that reads a file and prints the number of occurrences of a specific word.\n",
    "target_word = \"Python\"\n",
    "count = 0\n",
    "\n",
    "with open(\"example.txt\", \"r\") as file:\n",
    "    for line in file:\n",
    "        count += line.lower().count(target_word.lower())\n",
    "\n",
    "print(f\"'{target_word}' appears {count} times.\")"
   ]
  },
  {
   "cell_type": "code",
   "execution_count": 27,
   "id": "0b719628",
   "metadata": {},
   "outputs": [
    {
     "name": "stdout",
     "output_type": "stream",
     "text": [
      "Hello, World!\n",
      "Appended text.\n"
     ]
    }
   ],
   "source": [
    "# 22. How can you check if a file is empty before attempting to read its contents?\n",
    "import os\n",
    "\n",
    "if os.path.getsize(\"example.txt\") == 0:\n",
    "    print(\"File is empty.\")\n",
    "else:\n",
    "    with open(\"example.txt\", \"r\") as file:\n",
    "        print(file.read())"
   ]
  },
  {
   "cell_type": "code",
   "execution_count": 28,
   "id": "9d794e72",
   "metadata": {},
   "outputs": [],
   "source": [
    "# 23. Write a Python program that writes to a log file when an error occurs during file handling.\n",
    "import logging\n",
    "\n",
    "logging.basicConfig(filename='file_errors.log', level=logging.ERROR)\n",
    "\n",
    "try:\n",
    "    with open(\"nonexistent.txt\", \"r\") as file:\n",
    "        content = file.read()\n",
    "except FileNotFoundError:\n",
    "    logging.error(\"File not found during file handling.\")"
   ]
  }
 ],
 "metadata": {
  "kernelspec": {
   "display_name": "Python 3",
   "language": "python",
   "name": "python3"
  },
  "language_info": {
   "codemirror_mode": {
    "name": "ipython",
    "version": 3
   },
   "file_extension": ".py",
   "mimetype": "text/x-python",
   "name": "python",
   "nbconvert_exporter": "python",
   "pygments_lexer": "ipython3",
   "version": "3.12.10"
  }
 },
 "nbformat": 4,
 "nbformat_minor": 5
}
